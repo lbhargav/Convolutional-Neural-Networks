{
 "cells": [
  {
   "cell_type": "markdown",
   "metadata": {},
   "source": [
    "# CNN style 2D convolution¶\n"
   ]
  },
  {
   "cell_type": "raw",
   "metadata": {},
   "source": [
    "Input feature maps\n",
    "• 3D tensor\n",
    "• Ni inputs x n_r rows x n_c cols\n",
    "Filter coefficients\n",
    "• 4D tensor\n",
    "• No outputs x Ni inputs x f_r rows x f_c cols\n",
    "Output feature maps\n",
    "• 3D tensor\n",
    "• No outputs x Mr rows x Mc cols"
   ]
  },
  {
   "cell_type": "raw",
   "metadata": {},
   "source": [
    "Packages:\n",
    "Let's first import all the packages that you will need during this program.\n",
    "\n",
    "•\tnumpy is the main package for scientific computing with Python.\n",
    "•\tmatplotlib is a library to plot graphs in Python.\n",
    "•\tnp.random.seed(1) is used to keep all the random function calls consistent."
   ]
  },
  {
   "cell_type": "code",
   "execution_count": 48,
   "metadata": {
    "collapsed": true
   },
   "outputs": [],
   "source": [
    "import numpy as np\n",
    "import math\n",
    "import matplotlib.pyplot as plt\n",
    "%matplotlib inline"
   ]
  },
  {
   "cell_type": "code",
   "execution_count": 49,
   "metadata": {
    "collapsed": true
   },
   "outputs": [],
   "source": [
    "# Function: data generation\n",
    "def data_generation(n_ch, n_r, n_c, n_filters, f_r, f_c, order):\n",
    "    \"\"\"\n",
    "    Function: data generation\n",
    "        Input feature maps\n",
    "            Channel x row x column\n",
    "            Contents\n",
    "                order:\n",
    "                    Random\n",
    "                    Sequential\n",
    "        Filter coefficients\n",
    "            Output x input x row x col\n",
    "            Contents\n",
    "                order:\n",
    "                    Random\n",
    "                    Sequential\n",
    "                    \n",
    "    \"\"\"\n",
    "    if order is 'random':\n",
    "        np.random.seed(1)\n",
    "        input_feature_map = np.random.randn(n_ch, n_r, n_c)\n",
    "        filter_mat = np.random.randn(n_filters, n_ch, f_r, f_c)\n",
    "    elif order is 'sequential':\n",
    "        input_feature_map = np.arange(0, n_ch * n_r * n_c).reshape(n_ch, n_r, n_c)\n",
    "        filter_mat =  np.arange(0,n_filters * n_ch * f_r * f_c).reshape(n_filters, n_ch, f_r, f_c)\n",
    "    else:\n",
    "        print(\"Bad input\")     \n",
    "    return input_feature_map, filter_mat"
   ]
  },
  {
   "cell_type": "code",
   "execution_count": 50,
   "metadata": {},
   "outputs": [
    {
     "name": "stdout",
     "output_type": "stream",
     "text": [
      "input.shape = (2, 5, 5)\n",
      "filter.shape = (3, 2, 3, 3)\n",
      "[[[ 0  1  2  3  4]\n",
      "  [ 5  6  7  8  9]\n",
      "  [10 11 12 13 14]\n",
      "  [15 16 17 18 19]\n",
      "  [20 21 22 23 24]]\n",
      "\n",
      " [[25 26 27 28 29]\n",
      "  [30 31 32 33 34]\n",
      "  [35 36 37 38 39]\n",
      "  [40 41 42 43 44]\n",
      "  [45 46 47 48 49]]]\n",
      "[[[[ 0  1  2]\n",
      "   [ 3  4  5]\n",
      "   [ 6  7  8]]\n",
      "\n",
      "  [[ 9 10 11]\n",
      "   [12 13 14]\n",
      "   [15 16 17]]]\n",
      "\n",
      "\n",
      " [[[18 19 20]\n",
      "   [21 22 23]\n",
      "   [24 25 26]]\n",
      "\n",
      "  [[27 28 29]\n",
      "   [30 31 32]\n",
      "   [33 34 35]]]\n",
      "\n",
      "\n",
      " [[[36 37 38]\n",
      "   [39 40 41]\n",
      "   [42 43 44]]\n",
      "\n",
      "  [[45 46 47]\n",
      "   [48 49 50]\n",
      "   [51 52 53]]]]\n",
      "sample 2D image matrix = [[ 0  1  2  3  4]\n",
      " [ 5  6  7  8  9]\n",
      " [10 11 12 13 14]\n",
      " [15 16 17 18 19]\n",
      " [20 21 22 23 24]]\n",
      "sample filter = [[[ 0  1  2]\n",
      "  [ 3  4  5]\n",
      "  [ 6  7  8]]\n",
      "\n",
      " [[ 9 10 11]\n",
      "  [12 13 14]\n",
      "  [15 16 17]]]\n"
     ]
    },
    {
     "data": {
      "text/plain": [
       "<matplotlib.text.Text at 0x26024e8ed30>"
      ]
     },
     "execution_count": 50,
     "metadata": {},
     "output_type": "execute_result"
    },
    {
     "data": {
      "image/png": "[encoded data removed]",
      "text/plain": [
       "<matplotlib.figure.Figure at 0x2602509dfd0>"
      ]
     },
     "metadata": {},
     "output_type": "display_data"
    }
   ],
   "source": [
    "# parameters: n_ch, n_r, n_c, n_filters, f_r, f_c, order = sequential\n",
    "# input: n_ch, n_r, n_c\n",
    "# filter: n_filters, n_ch, f_r, f_c\n",
    "input, filter = data_generation(2, 5, 5, 3, 3, 3, order = 'sequential')\n",
    "print(\"input.shape =\", input.shape)\n",
    "print(\"filter.shape =\", filter.shape)\n",
    "print(input)\n",
    "print(filter)\n",
    "print(\"sample 2D image matrix =\", input[0,:,:])\n",
    "print(\"sample filter =\", filter[0,:,:,:])\n",
    "fig = input[0,:,:]\n",
    "plt.imshow(fig)\n",
    "plt.title('Input feature map 0')"
   ]
  },
  {
   "cell_type": "code",
   "execution_count": 51,
   "metadata": {},
   "outputs": [
    {
     "name": "stdout",
     "output_type": "stream",
     "text": [
      "input.shape = (2, 5, 5)\n",
      "filter.shape = (3, 2, 3, 3)\n",
      "[[[ 1.62434536 -0.61175641 -0.52817175 -1.07296862  0.86540763]\n",
      "  [-2.3015387   1.74481176 -0.7612069   0.3190391  -0.24937038]\n",
      "  [ 1.46210794 -2.06014071 -0.3224172  -0.38405435  1.13376944]\n",
      "  [-1.09989127 -0.17242821 -0.87785842  0.04221375  0.58281521]\n",
      "  [-1.10061918  1.14472371  0.90159072  0.50249434  0.90085595]]\n",
      "\n",
      " [[-0.68372786 -0.12289023 -0.93576943 -0.26788808  0.53035547]\n",
      "  [-0.69166075 -0.39675353 -0.6871727  -0.84520564 -0.67124613]\n",
      "  [-0.0126646  -1.11731035  0.2344157   1.65980218  0.74204416]\n",
      "  [-0.19183555 -0.88762896 -0.74715829  1.6924546   0.05080775]\n",
      "  [-0.63699565  0.19091548  2.10025514  0.12015895  0.61720311]]]\n",
      "[[[[ 0.30017032 -0.35224985 -1.1425182 ]\n",
      "   [-0.34934272 -0.20889423  0.58662319]\n",
      "   [ 0.83898341  0.93110208  0.28558733]]\n",
      "\n",
      "  [[ 0.88514116 -0.75439794  1.25286816]\n",
      "   [ 0.51292982 -0.29809284  0.48851815]\n",
      "   [-0.07557171  1.13162939  1.51981682]]]\n",
      "\n",
      "\n",
      " [[[ 2.18557541 -1.39649634 -1.44411381]\n",
      "   [-0.50446586  0.16003707  0.87616892]\n",
      "   [ 0.31563495 -2.02220122 -0.30620401]]\n",
      "\n",
      "  [[ 0.82797464  0.23009474  0.76201118]\n",
      "   [-0.22232814 -0.20075807  0.18656139]\n",
      "   [ 0.41005165  0.19829972  0.11900865]]]\n",
      "\n",
      "\n",
      " [[[-0.67066229  0.37756379  0.12182127]\n",
      "   [ 1.12948391  1.19891788  0.18515642]\n",
      "   [-0.37528495 -0.63873041  0.42349435]]\n",
      "\n",
      "  [[ 0.07734007 -0.34385368  0.04359686]\n",
      "   [-0.62000084  0.69803203 -0.44712856]\n",
      "   [ 1.2245077   0.40349164  0.59357852]]]]\n",
      "sample 2D image matrix = [[ 1.62434536 -0.61175641 -0.52817175 -1.07296862  0.86540763]\n",
      " [-2.3015387   1.74481176 -0.7612069   0.3190391  -0.24937038]\n",
      " [ 1.46210794 -2.06014071 -0.3224172  -0.38405435  1.13376944]\n",
      " [-1.09989127 -0.17242821 -0.87785842  0.04221375  0.58281521]\n",
      " [-1.10061918  1.14472371  0.90159072  0.50249434  0.90085595]]\n",
      "sample filter = [[[ 0.30017032 -0.35224985 -1.1425182 ]\n",
      "  [-0.34934272 -0.20889423  0.58662319]\n",
      "  [ 0.83898341  0.93110208  0.28558733]]\n",
      "\n",
      " [[ 0.88514116 -0.75439794  1.25286816]\n",
      "  [ 0.51292982 -0.29809284  0.48851815]\n",
      "  [-0.07557171  1.13162939  1.51981682]]]\n"
     ]
    },
    {
     "data": {
      "text/plain": [
       "<matplotlib.text.Text at 0x260250f69e8>"
      ]
     },
     "execution_count": 51,
     "metadata": {},
     "output_type": "execute_result"
    },
    {
     "data": {
      "image/png": "[encoded data removed]",
      "text/plain": [
       "<matplotlib.figure.Figure at 0x26024d69160>"
      ]
     },
     "metadata": {},
     "output_type": "display_data"
    }
   ],
   "source": [
    "# parameters: n_ch, n_r, n_c, n_filters, f_r, f_c, order = random\n",
    "# input: n_ch, n_r, n_c\n",
    "# filter: n_filters, n_ch, f_r, f_c\n",
    "input_random, filter_random = data_generation(2, 5, 5, 3, 3, 3, order = 'random')\n",
    "print(\"input.shape =\", input_random.shape)\n",
    "print(\"filter.shape =\", filter_random.shape)\n",
    "print(input_random)\n",
    "print(filter_random)\n",
    "print(\"sample 2D image matrix =\", input_random[0,:,:])\n",
    "print(\"sample filter =\", filter_random[0,:,:,:])\n",
    "fig = input_random[0,:,:]\n",
    "plt.imshow(fig)\n",
    "plt.title('Input feature map 0')"
   ]
  },
  {
   "cell_type": "code",
   "execution_count": 52,
   "metadata": {
    "collapsed": true
   },
   "outputs": [],
   "source": [
    "def preprocessing(X, preprocess , pad):\n",
    "    \"\"\"Function: pre processing \n",
    "            Zero padding \n",
    "                Top, bottom, left, right\n",
    "            Up sampling\n",
    "                Input feature maps Filters \n",
    "            \"\"\"\n",
    "    if preprocess is 'zero_padding':\n",
    "        X = np.pad(X, ((0, 0), (pad, pad), (pad, pad)), 'constant', constant_values=0)\n",
    "        return X \n",
    "    elif preprocess is 'up_sampling':\n",
    "        n_ch, n_r, n_c = X.shape\n",
    "        Z = np.zeros((n_ch, 2 * n_r,2 * n_c))\n",
    "        for i in range(0, n_ch): \n",
    "            for j in range(0, 2 * n_r, 2):\n",
    "                for k in range(0, 2 * n_c):\n",
    "                    if (j+k) % 2 == 0:  \n",
    "                        Z[i][j][k] = Z[i][j][k] + X[i][int(j/2)][int(k/2)]\n",
    "        return Z\n",
    "    else:\n",
    "        print(\"Bad input\")"
   ]
  },
  {
   "cell_type": "code",
   "execution_count": 53,
   "metadata": {},
   "outputs": [
    {
     "name": "stdout",
     "output_type": "stream",
     "text": [
      "input.shape = (2, 5, 5)\n",
      "input_pad.shape = (2, 9, 9)\n",
      "[[[ 0  0  0  0  0  0  0  0  0]\n",
      "  [ 0  0  0  0  0  0  0  0  0]\n",
      "  [ 0  0  0  1  2  3  4  0  0]\n",
      "  [ 0  0  5  6  7  8  9  0  0]\n",
      "  [ 0  0 10 11 12 13 14  0  0]\n",
      "  [ 0  0 15 16 17 18 19  0  0]\n",
      "  [ 0  0 20 21 22 23 24  0  0]\n",
      "  [ 0  0  0  0  0  0  0  0  0]\n",
      "  [ 0  0  0  0  0  0  0  0  0]]\n",
      "\n",
      " [[ 0  0  0  0  0  0  0  0  0]\n",
      "  [ 0  0  0  0  0  0  0  0  0]\n",
      "  [ 0  0 25 26 27 28 29  0  0]\n",
      "  [ 0  0 30 31 32 33 34  0  0]\n",
      "  [ 0  0 35 36 37 38 39  0  0]\n",
      "  [ 0  0 40 41 42 43 44  0  0]\n",
      "  [ 0  0 45 46 47 48 49  0  0]\n",
      "  [ 0  0  0  0  0  0  0  0  0]\n",
      "  [ 0  0  0  0  0  0  0  0  0]]]\n"
     ]
    },
    {
     "data": {
      "text/plain": [
       "<matplotlib.image.AxesImage at 0x26025206a58>"
      ]
     },
     "execution_count": 53,
     "metadata": {},
     "output_type": "execute_result"
    },
    {
     "data": {
      "image/png": "[encoded data removed]",
      "text/plain": [
       "<matplotlib.figure.Figure at 0x26025134160>"
      ]
     },
     "metadata": {},
     "output_type": "display_data"
    }
   ],
   "source": [
    "input_pad = preprocessing(input, preprocess = 'zero_padding', pad = 2)\n",
    "print(\"input.shape =\", input.shape)\n",
    "print (\"input_pad.shape =\", input_pad.shape)\n",
    "print(input_pad)\n",
    "fig, axarr = plt.subplots(1, 2)\n",
    "axarr[0].set_title('input')\n",
    "axarr[0].imshow(input[0,:,:])\n",
    "axarr[1].set_title('input_pad')\n",
    "axarr[1].imshow(input_pad[0,:,:])"
   ]
  },
  {
   "cell_type": "code",
   "execution_count": 54,
   "metadata": {},
   "outputs": [
    {
     "name": "stdout",
     "output_type": "stream",
     "text": [
      "input.shape = (2, 5, 5)\n",
      "input_up_sampling.shape = (2, 9, 9)\n",
      "[[[  0.   0.   1.   0.   2.   0.   3.   0.   4.   0.]\n",
      "  [  0.   0.   0.   0.   0.   0.   0.   0.   0.   0.]\n",
      "  [  5.   0.   6.   0.   7.   0.   8.   0.   9.   0.]\n",
      "  [  0.   0.   0.   0.   0.   0.   0.   0.   0.   0.]\n",
      "  [ 10.   0.  11.   0.  12.   0.  13.   0.  14.   0.]\n",
      "  [  0.   0.   0.   0.   0.   0.   0.   0.   0.   0.]\n",
      "  [ 15.   0.  16.   0.  17.   0.  18.   0.  19.   0.]\n",
      "  [  0.   0.   0.   0.   0.   0.   0.   0.   0.   0.]\n",
      "  [ 20.   0.  21.   0.  22.   0.  23.   0.  24.   0.]\n",
      "  [  0.   0.   0.   0.   0.   0.   0.   0.   0.   0.]]\n",
      "\n",
      " [[ 25.   0.  26.   0.  27.   0.  28.   0.  29.   0.]\n",
      "  [  0.   0.   0.   0.   0.   0.   0.   0.   0.   0.]\n",
      "  [ 30.   0.  31.   0.  32.   0.  33.   0.  34.   0.]\n",
      "  [  0.   0.   0.   0.   0.   0.   0.   0.   0.   0.]\n",
      "  [ 35.   0.  36.   0.  37.   0.  38.   0.  39.   0.]\n",
      "  [  0.   0.   0.   0.   0.   0.   0.   0.   0.   0.]\n",
      "  [ 40.   0.  41.   0.  42.   0.  43.   0.  44.   0.]\n",
      "  [  0.   0.   0.   0.   0.   0.   0.   0.   0.   0.]\n",
      "  [ 45.   0.  46.   0.  47.   0.  48.   0.  49.   0.]\n",
      "  [  0.   0.   0.   0.   0.   0.   0.   0.   0.   0.]]]\n"
     ]
    },
    {
     "data": {
      "text/plain": [
       "<matplotlib.image.AxesImage at 0x2602531db70>"
      ]
     },
     "execution_count": 54,
     "metadata": {},
     "output_type": "execute_result"
    },
    {
     "data": {
      "image/png": "[encoded data removed]",
      "text/plain": [
       "<matplotlib.figure.Figure at 0x26024fde518>"
      ]
     },
     "metadata": {},
     "output_type": "display_data"
    }
   ],
   "source": [
    "input_up_sampling = preprocessing(input, preprocess = 'up_sampling', pad = 0)\n",
    "print(\"input.shape =\", input.shape)\n",
    "print (\"input_up_sampling.shape =\", input_pad.shape)\n",
    "print(input_up_sampling)\n",
    "fig, axarr = plt.subplots(1, 2)\n",
    "axarr[0].set_title('input')\n",
    "axarr[0].imshow(input[0,:,:])\n",
    "axarr[1].set_title('input_up_sampling')\n",
    "axarr[1].imshow(input_up_sampling[0,:,:])"
   ]
  },
  {
   "cell_type": "code",
   "execution_count": 55,
   "metadata": {
    "collapsed": true
   },
   "outputs": [],
   "source": [
    "def matrix_creation(X, filter_dim, pad , stride):\n",
    "    \"\"\"\n",
    "    Function: matrix creation\n",
    "                    input feature map matrix\n",
    "                    padding factor\n",
    "                    Filter coefficient matrix\n",
    "                    stride factor\n",
    "                    Output feature map matrix (empty)\n",
    "    \"\"\"\n",
    "    n_ch, n_r, n_c = X.shape\n",
    "    n_filters, n_channels, f_r, f_c = filter_dim.shape\n",
    "    output_size = math.floor(((n_r + 2 * pad - f_r) / stride) + 1)\n",
    "    output = np.empty((n_filters, output_size, output_size)).reshape((n_filters ,output_size * output_size))\n",
    "    return output"
   ]
  },
  {
   "cell_type": "code",
   "execution_count": 56,
   "metadata": {},
   "outputs": [
    {
     "name": "stdout",
     "output_type": "stream",
     "text": [
      "output.shape = (3, 9)\n",
      "[[ 0.  0.  0.  0.  0.  0.  0.  0.  0.]\n",
      " [ 0.  0.  0.  0.  0.  0.  0.  0.  0.]\n",
      " [ 0.  0.  0.  0.  0.  0.  0.  0.  0.]]\n"
     ]
    }
   ],
   "source": [
    "output_matrix =  matrix_creation(input, filter, pad = 0, stride = 1)\n",
    "print(\"output.shape =\", output_matrix.shape)\n",
    "print(output_matrix)"
   ]
  },
  {
   "cell_type": "code",
   "execution_count": 57,
   "metadata": {
    "collapsed": true
   },
   "outputs": [],
   "source": [
    "def toeplitz_structure(X, filter_dim):\n",
    "    \"\"\"\n",
    "    Function:toeplitz structure\n",
    "                input feature map matrix\n",
    "                filter dimensions\n",
    "    \"\"\"\n",
    "    n_ch, n_r, n_c = X.shape\n",
    "    n_filters, f_channels, f_r, f_c = filter_dim.shape\n",
    "    toeplitz_list = []\n",
    "    for i in range(0, n_ch):\n",
    "        for j in range(0, f_r):\n",
    "            for k in range(0, f_c):\n",
    "                if (j + (f_r - 1)) < n_r and (k + (f_c - 1)) < n_c: \n",
    "                    toeplitz_X = [X[i][j][k], X[i][j][k + 1], X[i][j][k + 2],\n",
    "                                 X[i][j + 1][k], X[i][j+1][k+1], X[i][j + 1][k + 2],\n",
    "                                 X[i][j + 2][k], X[i][j+2][k+1], X[i][j+2][k+2]]\n",
    "                    toeplitz_list.append(toeplitz_X)\n",
    "    toeplitz_stru_matrix = np.array(toeplitz_list)\n",
    "    return toeplitz_stru_matrix  "
   ]
  },
  {
   "cell_type": "code",
   "execution_count": 58,
   "metadata": {},
   "outputs": [
    {
     "name": "stdout",
     "output_type": "stream",
     "text": [
      "input.shape = (2, 5, 5)\n",
      "toeplitz_structure_matrix.shape = (18, 9)\n",
      "[[ 0  1  2  5  6  7 10 11 12]\n",
      " [ 1  2  3  6  7  8 11 12 13]\n",
      " [ 2  3  4  7  8  9 12 13 14]\n",
      " [ 5  6  7 10 11 12 15 16 17]\n",
      " [ 6  7  8 11 12 13 16 17 18]\n",
      " [ 7  8  9 12 13 14 17 18 19]\n",
      " [10 11 12 15 16 17 20 21 22]\n",
      " [11 12 13 16 17 18 21 22 23]\n",
      " [12 13 14 17 18 19 22 23 24]\n",
      " [25 26 27 30 31 32 35 36 37]\n",
      " [26 27 28 31 32 33 36 37 38]\n",
      " [27 28 29 32 33 34 37 38 39]\n",
      " [30 31 32 35 36 37 40 41 42]\n",
      " [31 32 33 36 37 38 41 42 43]\n",
      " [32 33 34 37 38 39 42 43 44]\n",
      " [35 36 37 40 41 42 45 46 47]\n",
      " [36 37 38 41 42 43 46 47 48]\n",
      " [37 38 39 42 43 44 47 48 49]]\n"
     ]
    }
   ],
   "source": [
    "toeplitz_structure_matrix = toeplitz_structure(input, filter)\n",
    "print(\"input.shape =\", input.shape)\n",
    "print (\"toeplitz_structure_matrix.shape =\", toeplitz_structure_matrix.shape)\n",
    "print(toeplitz_structure_matrix)"
   ]
  },
  {
   "cell_type": "code",
   "execution_count": 59,
   "metadata": {
    "collapsed": true
   },
   "outputs": [],
   "source": [
    "def matrix_multiplication(toeplitz_structure_X, filter_dim):\n",
    "    \"\"\"\n",
    "    Function: matrix multiplication\n",
    "                Input feature map (note Toeplitz filtering matrix structure)\n",
    "                filter\n",
    "    \"\"\"\n",
    "    n_filters, f_channels, f_r, f_c = filter_dim.shape\n",
    "    flatten_filter = filter.flatten().reshape(n_filters, f_channels * f_r * f_c)\n",
    "    result = np.dot(flatten_filter, toeplitz_structure_X)\n",
    "    assert output_matrix.shape == result.shape\n",
    "    return result, flatten_filter"
   ]
  },
  {
   "cell_type": "code",
   "execution_count": 60,
   "metadata": {},
   "outputs": [
    {
     "name": "stdout",
     "output_type": "stream",
     "text": [
      "toeplitz_structure_matrix.shape = (18, 9)\n",
      "flatten_filter.shape = (3, 18)\n",
      "matrix_mul_result.shape = (3, 9)\n",
      "[[ 4035  4188  4341  4800  4953  5106  5565  5718  5871]\n",
      " [10029 10506 10983 12414 12891 13368 14799 15276 15753]\n",
      " [16023 16824 17625 20028 20829 21630 24033 24834 25635]]\n",
      "result at address 13 is: 12891\n"
     ]
    },
    {
     "data": {
      "text/plain": [
       "<matplotlib.text.Text at 0x260253bb080>"
      ]
     },
     "execution_count": 60,
     "metadata": {},
     "output_type": "execute_result"
    },
    {
     "data": {
      "image/png": "[encoded data removed]",
      "text/plain": [
       "<matplotlib.figure.Figure at 0x2602535b2b0>"
      ]
     },
     "metadata": {},
     "output_type": "display_data"
    }
   ],
   "source": [
    "matrix_mul_result, flatten_filter = matrix_multiplication(toeplitz_structure_matrix, filter)\n",
    "print (\"toeplitz_structure_matrix.shape =\", toeplitz_structure_matrix.shape)\n",
    "print (\"flatten_filter.shape =\", flatten_filter.shape)\n",
    "print (\"matrix_mul_result.shape =\", matrix_mul_result.shape)\n",
    "print(matrix_mul_result)\n",
    "print(\"result at address 13 is:\",matrix_mul_result[1][4])\n",
    "fig = matrix_mul_result[:,:]\n",
    "plt.imshow(fig)\n",
    "plt.title('matrix_mul_result image')"
   ]
  },
  {
   "cell_type": "code",
   "execution_count": 61,
   "metadata": {
    "collapsed": true
   },
   "outputs": [],
   "source": [
    "def post_processing(X):\n",
    "    \"\"\"\n",
    "    Function: post processing\n",
    "                Down sampling\n",
    "                Output feature maps\n",
    "    \"\"\"\n",
    "    n_ch, n_r, n_c = X.shape\n",
    "    Z = np.zeros((n_ch, int(n_r / 2) , int(n_c / 2) ))\n",
    "    for i in range(0, n_ch): \n",
    "        for j in range(0, n_r, 2):\n",
    "            for k in range(0, n_r, 2):\n",
    "                if (j+k) % 2 == 0:  \n",
    "                    Z[i][int(j/2)][int(k/2)] = X[i][j][k]\n",
    "    return Z"
   ]
  },
  {
   "cell_type": "code",
   "execution_count": 62,
   "metadata": {
    "scrolled": true
   },
   "outputs": [
    {
     "name": "stdout",
     "output_type": "stream",
     "text": [
      "down_sampled_matrix.shape (2, 5, 5)\n",
      "[[[  0.   1.   2.   3.   4.]\n",
      "  [  5.   6.   7.   8.   9.]\n",
      "  [ 10.  11.  12.  13.  14.]\n",
      "  [ 15.  16.  17.  18.  19.]\n",
      "  [ 20.  21.  22.  23.  24.]]\n",
      "\n",
      " [[ 25.  26.  27.  28.  29.]\n",
      "  [ 30.  31.  32.  33.  34.]\n",
      "  [ 35.  36.  37.  38.  39.]\n",
      "  [ 40.  41.  42.  43.  44.]\n",
      "  [ 45.  46.  47.  48.  49.]]]\n"
     ]
    }
   ],
   "source": [
    "down_sampled_matrix = post_processing(input_up_sampling)\n",
    "print (\"down_sampled_matrix.shape\", down_sampled_matrix.shape)\n",
    "print(down_sampled_matrix)"
   ]
  }
 ],
 "metadata": {
  "kernelspec": {
   "display_name": "Python 3",
   "language": "python",
   "name": "python3"
  },
  "language_info": {
   "codemirror_mode": {
    "name": "ipython",
    "version": 3
   },
   "file_extension": ".py",
   "mimetype": "text/x-python",
   "name": "python",
   "nbconvert_exporter": "python",
   "pygments_lexer": "ipython3",
   "version": "3.6.2"
  }
 },
 "nbformat": 4,
 "nbformat_minor": 2
}
