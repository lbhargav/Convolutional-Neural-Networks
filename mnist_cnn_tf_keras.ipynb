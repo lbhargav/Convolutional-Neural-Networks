{
  "nbformat": 4,
  "nbformat_minor": 0,
  "metadata": {
    "colab": {
      "name": "mnist_cnn_tf_keras.ipynb",
      "version": "0.3.2",
      "provenance": [],
      "collapsed_sections": [],
      "include_colab_link": true
    },
    "kernelspec": {
      "name": "python3",
      "display_name": "Python 3"
    }
  },
  "cells": [
    {
      "cell_type": "markdown",
      "metadata": {
        "id": "view-in-github",
        "colab_type": "text"
      },
      "source": [
        "<a href=\"https://colab.research.google.com/github/lbhargav/Convolutional-Neural-Networks/blob/master/mnist_cnn_tf_keras.ipynb\" target=\"_parent\"><img src=\"https://colab.research.google.com/assets/colab-badge.svg\" alt=\"Open In Colab\"/></a>"
      ]
    },
    {
      "metadata": {
        "id": "aZcK4wK1DFRJ",
        "colab_type": "text"
      },
      "cell_type": "markdown",
      "source": [
        "## **MNIST Handwritten Digit Recognition Using CNN**\n",
        "\n",
        "The MNIST database of handwritten digits, available from this page, has a training set of 60,000 examples, and a test set of 10,000 examples. It is a subset of a larger set available from NIST. The digits have been size-normalized and centered in a fixed-size image.\n",
        "\n",
        "Training set: 60,000 pictures (64 by 64 pixels) of signs representing numbers from 0 to 9.\n",
        "\n",
        "Test set: 10,000 pictures (64 by 64 pixels) of signs representing numbers from 0 to 9. \n",
        "\n"
      ]
    },
    {
      "metadata": {
        "id": "d9i3fRa9qjvl",
        "colab_type": "text"
      },
      "cell_type": "markdown",
      "source": [
        "**Exploring the Tensorflow Library¶**\n",
        "\n",
        "To start, you will import the library:"
      ]
    },
    {
      "metadata": {
        "id": "lPVPBZ-70tZX",
        "colab_type": "code",
        "colab": {}
      },
      "cell_type": "code",
      "source": [
        "import tensorflow as tf\n",
        "import numpy as np\n",
        "import matplotlib.pyplot as plt\n",
        "import keras\n",
        "import pandas as pd\n",
        "\n",
        "%matplotlib inline\n"
      ],
      "execution_count": 0,
      "outputs": []
    },
    {
      "metadata": {
        "id": "yYFRFwaSrgwR",
        "colab_type": "text"
      },
      "cell_type": "markdown",
      "source": [
        ""
      ]
    },
    {
      "metadata": {
        "id": "ei9Rc7bSqzoQ",
        "colab_type": "code",
        "colab": {}
      },
      "cell_type": "code",
      "source": [
        "# Loading the dataset\n",
        "train_data = pd.read_csv(r'D:\\\\train.csv')\n",
        "test_data = pd.read_csv(\"MNIST Digit Dataset/test.csv\")\n",
        "train_data.head()"
      ],
      "execution_count": 0,
      "outputs": []
    },
    {
      "metadata": {
        "id": "29rUI5106nke",
        "colab_type": "code",
        "outputId": "47b1cf41-466f-4743-9f37-e9eee458364d",
        "colab": {
          "base_uri": "https://localhost:8080/",
          "height": 283
        }
      },
      "cell_type": "code",
      "source": [
        "# Example of a picture\n",
        "index = 3\n",
        "plt.imshow(X_train[index])\n",
        "print (\"y = \" + str(np.squeeze(Y_train[index])))"
      ],
      "execution_count": 0,
      "outputs": [
        {
          "output_type": "stream",
          "text": [
            "y = 1\n"
          ],
          "name": "stdout"
        },
        {
          "output_type": "display_data",
          "data": {
            "image/png": "[encoded data removed]",
            "text/plain": [
              "<matplotlib.figure.Figure at 0x7fcb1522a160>"
            ]
          },
          "metadata": {
            "tags": []
          }
        }
      ]
    },
    {
      "metadata": {
        "id": "At1OCbG4rJth",
        "colab_type": "code",
        "outputId": "f256d657-7324-459c-e64a-8afdd01ca53f",
        "colab": {
          "base_uri": "https://localhost:8080/",
          "height": 121
        }
      },
      "cell_type": "code",
      "source": [
        "# Normalize image vectors\n",
        "X_train = X_train/255.\n",
        "X_test = X_test/255.\n",
        "\n",
        "print (\"number of training examples = \" + str(X_train.shape[0]))\n",
        "print (\"number of test examples = \" + str(X_test.shape[0]))\n",
        "print (\"X_train shape: \" + str(X_train.shape))\n",
        "print (\"Y_train shape: \" + str(Y_train.shape))\n",
        "print (\"X_test shape: \" + str(X_test.shape))\n",
        "print (\"Y_test shape: \" + str(Y_test.shape))\n"
      ],
      "execution_count": 0,
      "outputs": [
        {
          "output_type": "stream",
          "text": [
            "number of training examples = 60000\n",
            "number of test examples = 10000\n",
            "X_train shape: (60000, 28, 28)\n",
            "Y_train shape: (60000,)\n",
            "X_test shape: (10000, 28, 28)\n",
            "Y_test shape: (10000,)\n"
          ],
          "name": "stdout"
        }
      ]
    },
    {
      "metadata": {
        "id": "xbQHcJgYI94v",
        "colab_type": "code",
        "outputId": "5c5765ef-081d-4755-e19f-52b43227c662",
        "colab": {
          "base_uri": "https://localhost:8080/",
          "height": 87
        }
      },
      "cell_type": "code",
      "source": [
        "# Further break training data into train / validation sets\n",
        "(X_train, X_valid) = X_train[5000:], X_train[:5000] \n",
        "(Y_train, Y_valid) = Y_train[5000:], Y_train[:5000]\n",
        "\n",
        "# Reshape input data from (28, 28) to (28, 28, 1)\n",
        "w, h = 28, 28\n",
        "X_train = X_train.reshape(X_train.shape[0], w, h, 1)\n",
        "X_valid = X_valid.reshape(X_valid.shape[0], w, h, 1)\n",
        "X_test = X_test.reshape(X_test.shape[0], w, h, 1)\n",
        "\n",
        "# One-hot encode the labels\n",
        "Y_train = keras.utils.to_categorical(Y_train, 10)\n",
        "Y_test = keras.utils.to_categorical(Y_test, 10)\n",
        "Y_valid = keras.utils.to_categorical(Y_valid, 10)\n",
        "\n",
        "# Print training set shape\n",
        "print(\"X_train shape:\", X_train.shape, \"Y_train shape:\", Y_train.shape)\n",
        "\n",
        "# Print the number of training, validation, and test datasets\n",
        "print(X_train.shape[0], 'train set')\n",
        "print(X_valid.shape[0], 'validation set')\n",
        "print(X_test.shape[0], 'test set')"
      ],
      "execution_count": 0,
      "outputs": [
        {
          "output_type": "stream",
          "text": [
            "X_train shape: (55000, 28, 28, 1) Y_train shape: (55000, 10)\n",
            "55000 train set\n",
            "5000 validation set\n",
            "10000 test set\n"
          ],
          "name": "stdout"
        }
      ]
    },
    {
      "metadata": {
        "id": "jlyA3vOi_kbn",
        "colab_type": "text"
      },
      "cell_type": "markdown",
      "source": [
        "**Building a model.**\n",
        "\n",
        "To train and test this model:\n",
        "\n",
        "Create a model Compile the model by calling model.compile(optimizer = \"...\", loss = \"...\", metrics = [\"accuracy\"])\n",
        "\n",
        "Train the model on train data by calling model.fit(x = ..., y = ..., epochs = ..., batch_size = ...)\n",
        "\n",
        "Test the model on test data by calling model.evaluate(x = ..., y = ...)"
      ]
    },
    {
      "metadata": {
        "id": "o6sF7rA_6gqx",
        "colab_type": "code",
        "outputId": "d9b56d4a-3383-46ee-c4b8-6d9078894691",
        "colab": {
          "base_uri": "https://localhost:8080/",
          "height": 485
        }
      },
      "cell_type": "code",
      "source": [
        "# building the model\n",
        "\n",
        "model = tf.keras.Sequential()\n",
        "# Must define the input shape in the first layer of the neural network\n",
        "\n",
        "# layer 1\n",
        "model.add(tf.keras.layers.Conv2D(filters=32, kernel_size=3, padding='same', activation='relu', input_shape=(28,28,1))) \n",
        "model.add(tf.keras.layers.MaxPooling2D(pool_size=2))\n",
        "model.add(tf.keras.layers.Dropout(0.3))\n",
        "\n",
        "# layer 2\n",
        "model.add(tf.keras.layers.Conv2D(filters=16, kernel_size=3, padding='same', activation='relu'))\n",
        "model.add(tf.keras.layers.MaxPooling2D(pool_size=2))\n",
        "model.add(tf.keras.layers.Dropout(0.3))\n",
        "\n",
        "# fully connected layer\n",
        "model.add(tf.keras.layers.Flatten())\n",
        "model.add(tf.keras.layers.Dense(128, activation='relu'))\n",
        "model.add(tf.keras.layers.Dropout(0.5))\n",
        "\n",
        "# getting the class label prediction with softmax \n",
        "model.add(tf.keras.layers.Dense(10, activation='softmax'))\n",
        "\n",
        "# Take a look at the model summary\n",
        "model.summary()"
      ],
      "execution_count": 0,
      "outputs": [
        {
          "output_type": "stream",
          "text": [
            "_________________________________________________________________\n",
            "Layer (type)                 Output Shape              Param #   \n",
            "=================================================================\n",
            "conv2d_10 (Conv2D)           (None, 28, 28, 32)        320       \n",
            "_________________________________________________________________\n",
            "max_pooling2d_10 (MaxPooling (None, 14, 14, 32)        0         \n",
            "_________________________________________________________________\n",
            "dropout_11 (Dropout)         (None, 14, 14, 32)        0         \n",
            "_________________________________________________________________\n",
            "conv2d_11 (Conv2D)           (None, 14, 14, 16)        4624      \n",
            "_________________________________________________________________\n",
            "max_pooling2d_11 (MaxPooling (None, 7, 7, 16)          0         \n",
            "_________________________________________________________________\n",
            "dropout_12 (Dropout)         (None, 7, 7, 16)          0         \n",
            "_________________________________________________________________\n",
            "flatten_5 (Flatten)          (None, 784)               0         \n",
            "_________________________________________________________________\n",
            "dense_10 (Dense)             (None, 128)               100480    \n",
            "_________________________________________________________________\n",
            "dropout_13 (Dropout)         (None, 128)               0         \n",
            "_________________________________________________________________\n",
            "dense_11 (Dense)             (None, 10)                1290      \n",
            "=================================================================\n",
            "Total params: 106,714\n",
            "Trainable params: 106,714\n",
            "Non-trainable params: 0\n",
            "_________________________________________________________________\n"
          ],
          "name": "stdout"
        }
      ]
    },
    {
      "metadata": {
        "id": "-sW2Hhhu64gb",
        "colab_type": "code",
        "colab": {}
      },
      "cell_type": "code",
      "source": [
        "model.compile(loss='categorical_crossentropy',\n",
        "             optimizer='adam',\n",
        "             metrics=['accuracy'])"
      ],
      "execution_count": 0,
      "outputs": []
    },
    {
      "metadata": {
        "id": "mqgLPFy-7Pzu",
        "colab_type": "code",
        "outputId": "9c3f15f0-7a7a-433e-86e1-a2bbb040810c",
        "colab": {
          "base_uri": "https://localhost:8080/",
          "height": 399
        }
      },
      "cell_type": "code",
      "source": [
        "model.fit(X_train, Y_train,\n",
        "         batch_size=512,\n",
        "         epochs=10,\n",
        "         validation_data=(X_valid, Y_valid))"
      ],
      "execution_count": 0,
      "outputs": [
        {
          "output_type": "stream",
          "text": [
            "Train on 55000 samples, validate on 5000 samples\n",
            "Epoch 1/10\n",
            "55000/55000 [==============================] - 61s 1ms/step - loss: 0.0563 - acc: 0.9823 - val_loss: 0.0303 - val_acc: 0.9906\n",
            "Epoch 2/10\n",
            "55000/55000 [==============================] - 62s 1ms/step - loss: 0.0511 - acc: 0.9839 - val_loss: 0.0300 - val_acc: 0.9906\n",
            "Epoch 3/10\n",
            "55000/55000 [==============================] - 61s 1ms/step - loss: 0.0542 - acc: 0.9827 - val_loss: 0.0285 - val_acc: 0.9908\n",
            "Epoch 4/10\n",
            "55000/55000 [==============================] - 61s 1ms/step - loss: 0.0497 - acc: 0.9848 - val_loss: 0.0286 - val_acc: 0.9910\n",
            "Epoch 5/10\n",
            "55000/55000 [==============================] - 61s 1ms/step - loss: 0.0498 - acc: 0.9846 - val_loss: 0.0286 - val_acc: 0.9910\n",
            "Epoch 6/10\n",
            "55000/55000 [==============================] - 61s 1ms/step - loss: 0.0505 - acc: 0.9846 - val_loss: 0.0284 - val_acc: 0.9902\n",
            "Epoch 7/10\n",
            "55000/55000 [==============================] - 61s 1ms/step - loss: 0.0517 - acc: 0.9842 - val_loss: 0.0283 - val_acc: 0.9906\n",
            "Epoch 8/10\n",
            "55000/55000 [==============================] - 60s 1ms/step - loss: 0.0471 - acc: 0.9856 - val_loss: 0.0285 - val_acc: 0.9906\n",
            "Epoch 9/10\n",
            "55000/55000 [==============================] - 60s 1ms/step - loss: 0.0452 - acc: 0.9857 - val_loss: 0.0285 - val_acc: 0.9904\n",
            "Epoch 10/10\n",
            "55000/55000 [==============================] - 60s 1ms/step - loss: 0.0493 - acc: 0.9850 - val_loss: 0.0276 - val_acc: 0.9912\n"
          ],
          "name": "stdout"
        },
        {
          "output_type": "execute_result",
          "data": {
            "text/plain": [
              "<tensorflow.python.keras.callbacks.History at 0x7fcb13bf5710>"
            ]
          },
          "metadata": {
            "tags": []
          },
          "execution_count": 71
        }
      ]
    },
    {
      "metadata": {
        "id": "SBjz3El87T5C",
        "colab_type": "code",
        "outputId": "a10af789-0954-411a-82ea-05c3c09409d7",
        "colab": {
          "base_uri": "https://localhost:8080/",
          "height": 87
        }
      },
      "cell_type": "code",
      "source": [
        "# Evaluate the model on test set\n",
        "score_train = model.evaluate(X_train, Y_train, verbose=0)\n",
        "score_test = model.evaluate(X_test, Y_test, verbose=0)\n",
        "\n",
        "# Print test accuracy\n",
        "print('\\n', 'Training  accuracy:', score_train[1])\n",
        "print('\\n', 'Test accuracy:', score_test[1])"
      ],
      "execution_count": 0,
      "outputs": [
        {
          "output_type": "stream",
          "text": [
            "\n",
            " Training  accuracy: 0.9962727272727273\n",
            "\n",
            " Test accuracy: 0.9918\n"
          ],
          "name": "stdout"
        }
      ]
    }
  ]
}